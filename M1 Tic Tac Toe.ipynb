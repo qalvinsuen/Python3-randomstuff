{
 "cells": [
  {
   "cell_type": "code",
   "execution_count": null,
   "metadata": {},
   "outputs": [],
   "source": [
    "print(' {s7} | {s8} | {s9} \\n {s4} | {s5} | {s6} \\n {s1} | {s2} | {s3} '.format(s1=' ',s2=' ',s3=' ',s4=' ',s5=' ',s6=' ',s7=' ',s8=' ',s9=' '))\n",
    "print(' {7} | {8} | {9} \\n {4} | {5} | {6} \\n {1} | {2} | {3} ')"
   ]
  },
  {
   "cell_type": "code",
   "execution_count": null,
   "metadata": {},
   "outputs": [],
   "source": [
    "player1 = input(\"Please pick a marker 'X' or 'O'\")"
   ]
  },
  {
   "cell_type": "code",
   "execution_count": null,
   "metadata": {},
   "outputs": [],
   "source": [
    "player1"
   ]
  },
  {
   "cell_type": "code",
   "execution_count": null,
   "metadata": {},
   "outputs": [],
   "source": [
    "if player1=='X':\n",
    "    player2='O'\n",
    "else:\n",
    "    player2='X'"
   ]
  },
  {
   "cell_type": "code",
   "execution_count": null,
   "metadata": {},
   "outputs": [],
   "source": [
    "player2"
   ]
  },
  {
   "cell_type": "code",
   "execution_count": 2,
   "metadata": {},
   "outputs": [
    {
     "name": "stdout",
     "output_type": "stream",
     "text": [
      "Please pick a marker 'X' or 'O'X\n",
      "pick squarea\n"
     ]
    },
    {
     "ename": "TypeError",
     "evalue": "unsupported operand type(s) for -: 'str' and 'int'",
     "output_type": "error",
     "traceback": [
      "\u001b[1;31m---------------------------------------------------------------------------\u001b[0m",
      "\u001b[1;31mTypeError\u001b[0m                                 Traceback (most recent call last)",
      "\u001b[1;32m<ipython-input-2-fa367c6c3f88>\u001b[0m in \u001b[0;36m<module>\u001b[1;34m\u001b[0m\n\u001b[0;32m     42\u001b[0m     \u001b[1;32mif\u001b[0m \u001b[0malternate\u001b[0m\u001b[1;33m%\u001b[0m\u001b[1;36m2\u001b[0m\u001b[1;33m==\u001b[0m\u001b[1;36m0\u001b[0m\u001b[1;33m:\u001b[0m\u001b[1;33m\u001b[0m\u001b[1;33m\u001b[0m\u001b[0m\n\u001b[0;32m     43\u001b[0m         \u001b[0mmove\u001b[0m\u001b[1;33m=\u001b[0m\u001b[1;33m(\u001b[0m\u001b[0minput\u001b[0m\u001b[1;33m(\u001b[0m\u001b[1;34m'pick square'\u001b[0m\u001b[1;33m)\u001b[0m\u001b[1;33m)\u001b[0m\u001b[1;33m\u001b[0m\u001b[1;33m\u001b[0m\u001b[0m\n\u001b[1;32m---> 44\u001b[1;33m         \u001b[1;32mif\u001b[0m \u001b[0msomelist\u001b[0m\u001b[1;33m[\u001b[0m\u001b[0mmove\u001b[0m\u001b[1;33m-\u001b[0m\u001b[1;36m1\u001b[0m\u001b[1;33m]\u001b[0m\u001b[1;33m==\u001b[0m\u001b[1;34m' '\u001b[0m\u001b[1;33m:\u001b[0m\u001b[1;33m\u001b[0m\u001b[1;33m\u001b[0m\u001b[0m\n\u001b[0m\u001b[0;32m     45\u001b[0m             \u001b[0mclear_output\u001b[0m\u001b[1;33m(\u001b[0m\u001b[1;33m)\u001b[0m\u001b[1;33m\u001b[0m\u001b[1;33m\u001b[0m\u001b[0m\n\u001b[0;32m     46\u001b[0m             \u001b[0msomelist\u001b[0m\u001b[1;33m[\u001b[0m\u001b[0mmove\u001b[0m\u001b[1;33m-\u001b[0m\u001b[1;36m1\u001b[0m\u001b[1;33m]\u001b[0m\u001b[1;33m=\u001b[0m\u001b[0mplayer1\u001b[0m\u001b[1;33m\u001b[0m\u001b[1;33m\u001b[0m\u001b[0m\n",
      "\u001b[1;31mTypeError\u001b[0m: unsupported operand type(s) for -: 'str' and 'int'"
     ]
    }
   ],
   "source": [
    "from IPython.display import clear_output\n",
    "def display_board(board):\n",
    "    print(' {s7} | {s8} | {s9} \\n {s4} | {s5} | {s6} \\n {s1} | {s2} | {s3} '.format(s1=board[0],s2=board[1],s3=board[2],s4=board[3],s5=board[4],s6=board[5],s7=board[6],s8=board[7],s9=board[8]))\n",
    "def replay(x):\n",
    "    alternate='GAME OVER'\n",
    "    while alternate!=0:\n",
    "        if x=='Yes':\n",
    "            alternate=0\n",
    "            clear_output()\n",
    "        elif x=='No':\n",
    "            break\n",
    "        else:\n",
    "            print(\"Please choose 'Yes' or 'No'.\")\n",
    "            x=input('Replay?')\n",
    "            \n",
    "player1 = input(\"Please pick a marker 'X' or 'O'\")\n",
    "xmarksthespot=0\n",
    "while xmarksthespot==0:\n",
    "    if player1=='X':\n",
    "        player2='O'\n",
    "        xmarksthespot+=1\n",
    "    elif player1=='O':\n",
    "        player2=='X'\n",
    "        xmarksthespot+=1\n",
    "    else:\n",
    "        print(\"Please choose 'X' or 'O'.\")\n",
    "        player1 = input(\"Please pick a marker 'X' or 'O'\")\n",
    "        \n",
    "somelist=[' ',' ',' ',' ',' ',' ',' ',' ',' ']\n",
    "s1=somelist[0]\n",
    "s2=somelist[1]\n",
    "s3=somelist[2]\n",
    "s4=somelist[3]\n",
    "s5=somelist[4]\n",
    "s6=somelist[5]\n",
    "s7=somelist[6]\n",
    "s8=somelist[7]\n",
    "s9=somelist[8]\n",
    "alternate=0\n",
    "\n",
    "while True:\n",
    "    if alternate%2==0:\n",
    "        move=(input('pick square'))\n",
    "        if somelist[move-1]==' ':\n",
    "            clear_output()\n",
    "            somelist[move-1]=player1\n",
    "            alternate+=1\n",
    "            s1=somelist[0]\n",
    "            s2=somelist[1]\n",
    "            s3=somelist[2]\n",
    "            s4=somelist[3]\n",
    "            s5=somelist[4]\n",
    "            s6=somelist[5]\n",
    "            s7=somelist[6]\n",
    "            s8=somelist[7]\n",
    "            s9=somelist[8]\n",
    "            if player1==s7==s8==s9 or player1==s4==s5==s6 or player1==s1==s2==s3 or player1==s7==s4==s1 or player1==s8==s5==s2 or player1==s9==s6==s3 or player1==s7==s5==s3 or player1==s9==s5==s1:\n",
    "                print('Player 1 Wins! \\n GAME OVER')\n",
    "                display_board(somelist)\n",
    "                replay(input('Replay?'))\n",
    "                somelist=[' ',' ',' ',' ',' ',' ',' ',' ',' ']\n",
    "                alternate=0\n",
    "            elif s1!=' ' and s2!=' ' and s3!=' 'and s4!=' 'and s5!=' 'and s6!=' 'and s7!=' 'and s8!=' 'and s9!=' ':\n",
    "                display_board(somelist)\n",
    "                print(\"GAME TIE, BUT IT'S OKAY THAT MEANS EVERYONE'S A WINNER\")\n",
    "                replay(input('Replay?'))\n",
    "                somelist=[' ',' ',' ',' ',' ',' ',' ',' ',' ']\n",
    "                alternate=0\n",
    "            else:\n",
    "                display_board(somelist)\n",
    "        else:\n",
    "            print('Move not possible, choose another square :)')\n",
    "            continue\n",
    "\n",
    "    else:\n",
    "        move=int(input('pick square'))\n",
    "        if somelist[move-1]==' ':\n",
    "            clear_output()\n",
    "            somelist[move-1]=player2\n",
    "            alternate+=1\n",
    "            s1=somelist[0]\n",
    "            s2=somelist[1]\n",
    "            s3=somelist[2]\n",
    "            s4=somelist[3]\n",
    "            s5=somelist[4]\n",
    "            s6=somelist[5]\n",
    "            s7=somelist[6]\n",
    "            s8=somelist[7]\n",
    "            s9=somelist[8]\n",
    "            if player2==s7==s8==s9 or player2==s4==s5==s6 or player2==s1==s2==s3 or player2==s7==s4==s1 or player2==s8==s5==s2 or player2==s9==s6==s3 or player2==s7==s5==s3 or player2==s9==s5==s1:\n",
    "                display_board(somelist)\n",
    "                print('Player 2 Wins! \\n GAME OVER')\n",
    "                replay(input('Replay?'))\n",
    "                somelist=[' ',' ',' ',' ',' ',' ',' ',' ',' ']\n",
    "                alternate=0\n",
    "            elif s1!=' ' and s2!=' ' and s3!=' 'and s4!=' 'and s5!=' 'and s6!=' 'and s7!=' 'and s8!=' 'and s9!=' ':\n",
    "                display_board(somelist)\n",
    "                print(\"GAME TIE, BUT IT'S OKAY THAT MEANS EVERYONE'S A WINNER\")\n",
    "                replay(input('Replay?'))\n",
    "                somelist=[' ',' ',' ',' ',' ',' ',' ',' ',' ']\n",
    "                alternate=0\n",
    "            else:\n",
    "                display_board(somelist)\n",
    "        else:\n",
    "            print('Move not possible, choose another square :)')\n",
    "            continue"
   ]
  },
  {
   "cell_type": "code",
   "execution_count": null,
   "metadata": {},
   "outputs": [],
   "source": [
    "#done"
   ]
  },
  {
   "cell_type": "code",
   "execution_count": null,
   "metadata": {},
   "outputs": [],
   "source": []
  }
 ],
 "metadata": {
  "kernelspec": {
   "display_name": "Python 3",
   "language": "python",
   "name": "python3"
  },
  "language_info": {
   "codemirror_mode": {
    "name": "ipython",
    "version": 3
   },
   "file_extension": ".py",
   "mimetype": "text/x-python",
   "name": "python",
   "nbconvert_exporter": "python",
   "pygments_lexer": "ipython3",
   "version": "3.7.3"
  }
 },
 "nbformat": 4,
 "nbformat_minor": 2
}
